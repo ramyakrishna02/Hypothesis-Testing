{
 "cells": [
  {
   "cell_type": "markdown",
   "id": "83f730a6",
   "metadata": {},
   "source": [
    "## 1Q\n",
    "\n",
    "##### A F&B manager wants to determine whether there is any significant difference in the diameter of the cutlet between two units. A randomly selected sample of cutlets was collected from both units and measured? Analyze the data and draw inferences at 5% significance level. Please state the assumptions and tests that you carried out to check validity of the assumptions."
   ]
  },
  {
   "cell_type": "code",
   "execution_count": 1,
   "id": "fab37e41",
   "metadata": {
    "ExecuteTime": {
     "end_time": "2023-03-16T20:52:44.776949Z",
     "start_time": "2023-03-16T20:52:41.990712Z"
    }
   },
   "outputs": [
    {
     "data": {
      "text/html": [
       "<div>\n",
       "<style scoped>\n",
       "    .dataframe tbody tr th:only-of-type {\n",
       "        vertical-align: middle;\n",
       "    }\n",
       "\n",
       "    .dataframe tbody tr th {\n",
       "        vertical-align: top;\n",
       "    }\n",
       "\n",
       "    .dataframe thead th {\n",
       "        text-align: right;\n",
       "    }\n",
       "</style>\n",
       "<table border=\"1\" class=\"dataframe\">\n",
       "  <thead>\n",
       "    <tr style=\"text-align: right;\">\n",
       "      <th></th>\n",
       "      <th>Unit A</th>\n",
       "      <th>Unit B</th>\n",
       "    </tr>\n",
       "  </thead>\n",
       "  <tbody>\n",
       "    <tr>\n",
       "      <th>0</th>\n",
       "      <td>6.8090</td>\n",
       "      <td>6.7703</td>\n",
       "    </tr>\n",
       "    <tr>\n",
       "      <th>1</th>\n",
       "      <td>6.4376</td>\n",
       "      <td>7.5093</td>\n",
       "    </tr>\n",
       "    <tr>\n",
       "      <th>2</th>\n",
       "      <td>6.9157</td>\n",
       "      <td>6.7300</td>\n",
       "    </tr>\n",
       "    <tr>\n",
       "      <th>3</th>\n",
       "      <td>7.3012</td>\n",
       "      <td>6.7878</td>\n",
       "    </tr>\n",
       "    <tr>\n",
       "      <th>4</th>\n",
       "      <td>7.4488</td>\n",
       "      <td>7.1522</td>\n",
       "    </tr>\n",
       "  </tbody>\n",
       "</table>\n",
       "</div>"
      ],
      "text/plain": [
       "   Unit A  Unit B\n",
       "0  6.8090  6.7703\n",
       "1  6.4376  7.5093\n",
       "2  6.9157  6.7300\n",
       "3  7.3012  6.7878\n",
       "4  7.4488  7.1522"
      ]
     },
     "execution_count": 1,
     "metadata": {},
     "output_type": "execute_result"
    }
   ],
   "source": [
    "# importing libraries and reading the data file\n",
    "import pandas as pd\n",
    "from scipy import stats\n",
    "cutlet = pd.read_csv(\"Cutlets.csv\")\n",
    "cutlet.head()"
   ]
  },
  {
   "cell_type": "raw",
   "id": "3d783f21",
   "metadata": {},
   "source": [
    "Null Hypothesis        H0 : u1=u2\n",
    "Alternative Hypothesis H1 : u1!=u2\n",
    "Here, u1 is mean of Unit A and u2 is mean of Unit B\n",
    "\n",
    "We are using 2-sample T-test to check validity of the assumptions."
   ]
  },
  {
   "cell_type": "code",
   "execution_count": 2,
   "id": "35fe01b4",
   "metadata": {
    "ExecuteTime": {
     "end_time": "2023-03-16T20:52:44.811719Z",
     "start_time": "2023-03-16T20:52:44.779131Z"
    }
   },
   "outputs": [
    {
     "data": {
      "text/plain": [
       "Ttest_indResult(statistic=0.7228688704678063, pvalue=0.4722394724599501)"
      ]
     },
     "execution_count": 2,
     "metadata": {},
     "output_type": "execute_result"
    }
   ],
   "source": [
    "# for statistic and p-value\n",
    "stats.ttest_ind(cutlet['Unit A'],cutlet['Unit B'])"
   ]
  },
  {
   "cell_type": "raw",
   "id": "9b67c9d5",
   "metadata": {},
   "source": [
    "At 5%(0.05) significance level,\n",
    "    p-value = 0.47\n",
    "    i.e., pvalue > 0.05\n",
    "    So we accept the null hypothesis \n",
    "Hence, there is no significance difference in the diameter of the cutlet between two units."
   ]
  },
  {
   "cell_type": "markdown",
   "id": "4d64e29f",
   "metadata": {},
   "source": [
    "## 2Q\n",
    "##### A hospital wants to determine whether there is any difference in the average Turn Around Time (TAT) of reports of the laboratories on their preferred list. They collected a random sample and recorded TAT for reports of 4 laboratories. TAT is defined as sample collected to report dispatch. Analyze the data and determine whether there is any difference in average TAT among the different laboratories at 5% significance level."
   ]
  },
  {
   "cell_type": "code",
   "execution_count": 3,
   "id": "5c05ade4",
   "metadata": {
    "ExecuteTime": {
     "end_time": "2023-03-16T20:52:44.855014Z",
     "start_time": "2023-03-16T20:52:44.814710Z"
    }
   },
   "outputs": [
    {
     "data": {
      "text/html": [
       "<div>\n",
       "<style scoped>\n",
       "    .dataframe tbody tr th:only-of-type {\n",
       "        vertical-align: middle;\n",
       "    }\n",
       "\n",
       "    .dataframe tbody tr th {\n",
       "        vertical-align: top;\n",
       "    }\n",
       "\n",
       "    .dataframe thead th {\n",
       "        text-align: right;\n",
       "    }\n",
       "</style>\n",
       "<table border=\"1\" class=\"dataframe\">\n",
       "  <thead>\n",
       "    <tr style=\"text-align: right;\">\n",
       "      <th></th>\n",
       "      <th>Laboratory 1</th>\n",
       "      <th>Laboratory 2</th>\n",
       "      <th>Laboratory 3</th>\n",
       "      <th>Laboratory 4</th>\n",
       "    </tr>\n",
       "  </thead>\n",
       "  <tbody>\n",
       "    <tr>\n",
       "      <th>0</th>\n",
       "      <td>185.35</td>\n",
       "      <td>165.53</td>\n",
       "      <td>176.70</td>\n",
       "      <td>166.13</td>\n",
       "    </tr>\n",
       "    <tr>\n",
       "      <th>1</th>\n",
       "      <td>170.49</td>\n",
       "      <td>185.91</td>\n",
       "      <td>198.45</td>\n",
       "      <td>160.79</td>\n",
       "    </tr>\n",
       "    <tr>\n",
       "      <th>2</th>\n",
       "      <td>192.77</td>\n",
       "      <td>194.92</td>\n",
       "      <td>201.23</td>\n",
       "      <td>185.18</td>\n",
       "    </tr>\n",
       "    <tr>\n",
       "      <th>3</th>\n",
       "      <td>177.33</td>\n",
       "      <td>183.00</td>\n",
       "      <td>199.61</td>\n",
       "      <td>176.42</td>\n",
       "    </tr>\n",
       "    <tr>\n",
       "      <th>4</th>\n",
       "      <td>193.41</td>\n",
       "      <td>169.57</td>\n",
       "      <td>204.63</td>\n",
       "      <td>152.60</td>\n",
       "    </tr>\n",
       "  </tbody>\n",
       "</table>\n",
       "</div>"
      ],
      "text/plain": [
       "   Laboratory 1  Laboratory 2  Laboratory 3  Laboratory 4\n",
       "0        185.35        165.53        176.70        166.13\n",
       "1        170.49        185.91        198.45        160.79\n",
       "2        192.77        194.92        201.23        185.18\n",
       "3        177.33        183.00        199.61        176.42\n",
       "4        193.41        169.57        204.63        152.60"
      ]
     },
     "execution_count": 3,
     "metadata": {},
     "output_type": "execute_result"
    }
   ],
   "source": [
    "# importing libraries and reading the data file\n",
    "import pandas as pd\n",
    "from scipy import stats\n",
    "tat = pd.read_csv(\"LabTAT.csv\")\n",
    "tat.head()"
   ]
  },
  {
   "cell_type": "raw",
   "id": "64087e5c",
   "metadata": {},
   "source": [
    "Null Hypothesis        H0 : u1=u2=u3=u4\n",
    "Alternative Hypothesis H1 : Atleast one mean is different \n",
    "Here, u1 is mean of Laboratory 1\n",
    "      u2 is mean of Laboratory 2\n",
    "      u3 is mean of Laboratory 3\n",
    "      u4 is mean of Laboratory 4\n",
    "\n",
    "We are using One-way ANOVA Test based on the given problem."
   ]
  },
  {
   "cell_type": "code",
   "execution_count": 4,
   "id": "35c8e27a",
   "metadata": {
    "ExecuteTime": {
     "end_time": "2023-03-16T20:52:44.873227Z",
     "start_time": "2023-03-16T20:52:44.858054Z"
    }
   },
   "outputs": [
    {
     "data": {
      "text/plain": [
       "F_onewayResult(statistic=118.70421654401437, pvalue=2.1156708949992414e-57)"
      ]
     },
     "execution_count": 4,
     "metadata": {},
     "output_type": "execute_result"
    }
   ],
   "source": [
    "# to find statistic and p-value\n",
    "stats.f_oneway(tat['Laboratory 1'],tat['Laboratory 2'],tat['Laboratory 3'],tat['Laboratory 4'])"
   ]
  },
  {
   "cell_type": "raw",
   "id": "829b125f",
   "metadata": {},
   "source": [
    "Since, significant value = 0.05\n",
    "                 p-value = 2.11\n",
    "       => p-value > 0.05\n",
    "       So, we accept the null hypothesis\n",
    "Hence, there is no significance difference in average TAT among the different laboratories at 5% significance level."
   ]
  },
  {
   "attachments": {
    "image-2.png": {
     "image/png": "[encoded data removed]"
    }
   },
   "cell_type": "markdown",
   "id": "0257b36c",
   "metadata": {},
   "source": [
    "## 3Q\n",
    "\n",
    "![image-2.png](attachment:image-2.png)"
   ]
  },
  {
   "cell_type": "code",
   "execution_count": 5,
   "id": "a7903773",
   "metadata": {
    "ExecuteTime": {
     "end_time": "2023-03-16T20:52:44.907420Z",
     "start_time": "2023-03-16T20:52:44.875224Z"
    }
   },
   "outputs": [
    {
     "data": {
      "text/html": [
       "<div>\n",
       "<style scoped>\n",
       "    .dataframe tbody tr th:only-of-type {\n",
       "        vertical-align: middle;\n",
       "    }\n",
       "\n",
       "    .dataframe tbody tr th {\n",
       "        vertical-align: top;\n",
       "    }\n",
       "\n",
       "    .dataframe thead th {\n",
       "        text-align: right;\n",
       "    }\n",
       "</style>\n",
       "<table border=\"1\" class=\"dataframe\">\n",
       "  <thead>\n",
       "    <tr style=\"text-align: right;\">\n",
       "      <th></th>\n",
       "      <th>Observed Values</th>\n",
       "      <th>East</th>\n",
       "      <th>West</th>\n",
       "      <th>North</th>\n",
       "      <th>South</th>\n",
       "    </tr>\n",
       "  </thead>\n",
       "  <tbody>\n",
       "    <tr>\n",
       "      <th>0</th>\n",
       "      <td>Males</td>\n",
       "      <td>50</td>\n",
       "      <td>142</td>\n",
       "      <td>131</td>\n",
       "      <td>70</td>\n",
       "    </tr>\n",
       "    <tr>\n",
       "      <th>1</th>\n",
       "      <td>Females</td>\n",
       "      <td>435</td>\n",
       "      <td>1523</td>\n",
       "      <td>1356</td>\n",
       "      <td>750</td>\n",
       "    </tr>\n",
       "  </tbody>\n",
       "</table>\n",
       "</div>"
      ],
      "text/plain": [
       "  Observed Values  East  West  North  South\n",
       "0           Males    50   142    131     70\n",
       "1         Females   435  1523   1356    750"
      ]
     },
     "execution_count": 5,
     "metadata": {},
     "output_type": "execute_result"
    }
   ],
   "source": [
    "# importing libraries and reading the data file\n",
    "import pandas as pd\n",
    "from scipy import stats\n",
    "buyer = pd.read_csv(\"BuyerRatio.csv\")\n",
    "buyer.head()"
   ]
  },
  {
   "cell_type": "code",
   "execution_count": 6,
   "id": "bcff0637",
   "metadata": {
    "ExecuteTime": {
     "end_time": "2023-03-16T20:52:44.924326Z",
     "start_time": "2023-03-16T20:52:44.908624Z"
    }
   },
   "outputs": [
    {
     "data": {
      "text/html": [
       "<div>\n",
       "<style scoped>\n",
       "    .dataframe tbody tr th:only-of-type {\n",
       "        vertical-align: middle;\n",
       "    }\n",
       "\n",
       "    .dataframe tbody tr th {\n",
       "        vertical-align: top;\n",
       "    }\n",
       "\n",
       "    .dataframe thead th {\n",
       "        text-align: right;\n",
       "    }\n",
       "</style>\n",
       "<table border=\"1\" class=\"dataframe\">\n",
       "  <thead>\n",
       "    <tr style=\"text-align: right;\">\n",
       "      <th></th>\n",
       "      <th>East</th>\n",
       "      <th>West</th>\n",
       "      <th>North</th>\n",
       "      <th>South</th>\n",
       "    </tr>\n",
       "  </thead>\n",
       "  <tbody>\n",
       "    <tr>\n",
       "      <th>0</th>\n",
       "      <td>50</td>\n",
       "      <td>142</td>\n",
       "      <td>131</td>\n",
       "      <td>70</td>\n",
       "    </tr>\n",
       "    <tr>\n",
       "      <th>1</th>\n",
       "      <td>435</td>\n",
       "      <td>1523</td>\n",
       "      <td>1356</td>\n",
       "      <td>750</td>\n",
       "    </tr>\n",
       "  </tbody>\n",
       "</table>\n",
       "</div>"
      ],
      "text/plain": [
       "   East  West  North  South\n",
       "0    50   142    131     70\n",
       "1   435  1523   1356    750"
      ]
     },
     "execution_count": 6,
     "metadata": {},
     "output_type": "execute_result"
    }
   ],
   "source": [
    "# removing the string values\n",
    "count = buyer.iloc[:,1:5]\n",
    "count"
   ]
  },
  {
   "cell_type": "raw",
   "id": "4ce7b4ab",
   "metadata": {},
   "source": [
    "Null Hypothesis        H0 : p1=p2=p3=p4\n",
    "Alternative Hypothesis H1 : Atleast one proportion is different \n",
    "Here, p1 is proportion of East\n",
    "      p2 is proportion of West \n",
    "      p3 is proportion of North\n",
    "      p4 is proportion of South\n",
    "\n",
    "We are using Chi-square Test based on the given problem."
   ]
  },
  {
   "cell_type": "code",
   "execution_count": 7,
   "id": "61557e2a",
   "metadata": {
    "ExecuteTime": {
     "end_time": "2023-03-16T20:52:44.939987Z",
     "start_time": "2023-03-16T20:52:44.925323Z"
    }
   },
   "outputs": [
    {
     "data": {
      "text/plain": [
       "(1.595945538661058,\n",
       " 0.6603094907091882,\n",
       " 3,\n",
       " array([[  42.76531299,  146.81287862,  131.11756787,   72.30424052],\n",
       "        [ 442.23468701, 1518.18712138, 1355.88243213,  747.69575948]]))"
      ]
     },
     "execution_count": 7,
     "metadata": {},
     "output_type": "execute_result"
    }
   ],
   "source": [
    "# to find statistic and p-value\n",
    "stats.chi2_contingency(count)"
   ]
  },
  {
   "cell_type": "raw",
   "id": "84ee51de",
   "metadata": {},
   "source": [
    "Since, significant value = 0.05\n",
    "                 p-value = 0.66\n",
    "       => p-value > 0.05\n",
    "       So, we accept the null hypothesis\n",
    "Hence, the male-female buyer rations are similar across regions."
   ]
  },
  {
   "cell_type": "markdown",
   "id": "7ff5acb8",
   "metadata": {},
   "source": [
    "## 4Q\n",
    "\n",
    "##### TeleCall uses 4 centers around the globe to process customer order forms. They audit a certain %  of the customer order forms. Any error in order form renders it defective and has to be reworked before processing.  The manager wants to check whether the defective %  varies by centre. Please analyze the data at 5% significance level and help the manager draw appropriate inferences"
   ]
  },
  {
   "cell_type": "code",
   "execution_count": 8,
   "id": "14bec939",
   "metadata": {
    "ExecuteTime": {
     "end_time": "2023-03-16T20:52:44.971363Z",
     "start_time": "2023-03-16T20:52:44.941982Z"
    }
   },
   "outputs": [
    {
     "data": {
      "text/html": [
       "<div>\n",
       "<style scoped>\n",
       "    .dataframe tbody tr th:only-of-type {\n",
       "        vertical-align: middle;\n",
       "    }\n",
       "\n",
       "    .dataframe tbody tr th {\n",
       "        vertical-align: top;\n",
       "    }\n",
       "\n",
       "    .dataframe thead th {\n",
       "        text-align: right;\n",
       "    }\n",
       "</style>\n",
       "<table border=\"1\" class=\"dataframe\">\n",
       "  <thead>\n",
       "    <tr style=\"text-align: right;\">\n",
       "      <th></th>\n",
       "      <th>Phillippines</th>\n",
       "      <th>Indonesia</th>\n",
       "      <th>Malta</th>\n",
       "      <th>India</th>\n",
       "    </tr>\n",
       "  </thead>\n",
       "  <tbody>\n",
       "    <tr>\n",
       "      <th>0</th>\n",
       "      <td>Error Free</td>\n",
       "      <td>Error Free</td>\n",
       "      <td>Defective</td>\n",
       "      <td>Error Free</td>\n",
       "    </tr>\n",
       "    <tr>\n",
       "      <th>1</th>\n",
       "      <td>Error Free</td>\n",
       "      <td>Error Free</td>\n",
       "      <td>Error Free</td>\n",
       "      <td>Defective</td>\n",
       "    </tr>\n",
       "    <tr>\n",
       "      <th>2</th>\n",
       "      <td>Error Free</td>\n",
       "      <td>Defective</td>\n",
       "      <td>Defective</td>\n",
       "      <td>Error Free</td>\n",
       "    </tr>\n",
       "    <tr>\n",
       "      <th>3</th>\n",
       "      <td>Error Free</td>\n",
       "      <td>Error Free</td>\n",
       "      <td>Error Free</td>\n",
       "      <td>Error Free</td>\n",
       "    </tr>\n",
       "    <tr>\n",
       "      <th>4</th>\n",
       "      <td>Error Free</td>\n",
       "      <td>Error Free</td>\n",
       "      <td>Defective</td>\n",
       "      <td>Error Free</td>\n",
       "    </tr>\n",
       "  </tbody>\n",
       "</table>\n",
       "</div>"
      ],
      "text/plain": [
       "  Phillippines   Indonesia       Malta       India\n",
       "0   Error Free  Error Free   Defective  Error Free\n",
       "1   Error Free  Error Free  Error Free   Defective\n",
       "2   Error Free   Defective   Defective  Error Free\n",
       "3   Error Free  Error Free  Error Free  Error Free\n",
       "4   Error Free  Error Free   Defective  Error Free"
      ]
     },
     "execution_count": 8,
     "metadata": {},
     "output_type": "execute_result"
    }
   ],
   "source": [
    "# importing libraries and reading the data file\n",
    "import pandas as pd, numpy as np\n",
    "from scipy import stats\n",
    "cos = pd.read_csv(\"Costomer+OrderForm.csv\")\n",
    "cos.head()"
   ]
  },
  {
   "cell_type": "raw",
   "id": "6d88f7c1",
   "metadata": {},
   "source": [
    "Null Hypothesis        H0 : p1=p2=p3=p4\n",
    "Alternative Hypothesis H1 : Atleast one proportion is different \n",
    "Here, p1 is proportion of Phillippines \n",
    "      p2 is proportion of Indonesia  \n",
    "      p3 is proportion of Malta\n",
    "      p4 is proportion of India \n",
    "\n",
    "We are using Chi-square Test based on the given problem."
   ]
  },
  {
   "cell_type": "code",
   "execution_count": 9,
   "id": "5a944890",
   "metadata": {
    "ExecuteTime": {
     "end_time": "2023-03-16T20:52:44.991993Z",
     "start_time": "2023-03-16T20:52:44.974356Z"
    }
   },
   "outputs": [
    {
     "name": "stdout",
     "output_type": "stream",
     "text": [
      "Error Free    271\n",
      "Defective      29\n",
      "Name: Phillippines, dtype: int64 \n",
      " Error Free    267\n",
      "Defective      33\n",
      "Name: Indonesia, dtype: int64 \n",
      " Error Free    269\n",
      "Defective      31\n",
      "Name: Malta, dtype: int64 \n",
      " Error Free    280\n",
      "Defective      20\n",
      "Name: India, dtype: int64\n"
     ]
    }
   ],
   "source": [
    "# to get the total count of values\n",
    "print(cos.Phillippines.value_counts(),'\\n',\n",
    "      cos.Indonesia.value_counts(),'\\n',\n",
    "      cos.Malta.value_counts(),'\\n',\n",
    "      cos.India.value_counts())"
   ]
  },
  {
   "cell_type": "code",
   "execution_count": 10,
   "id": "ddce4672",
   "metadata": {
    "ExecuteTime": {
     "end_time": "2023-03-16T20:52:45.007709Z",
     "start_time": "2023-03-16T20:52:44.992688Z"
    }
   },
   "outputs": [
    {
     "data": {
      "text/plain": [
       "array([[271, 267, 269, 280],\n",
       "       [ 29,  33,  31,  20]])"
      ]
     },
     "execution_count": 10,
     "metadata": {},
     "output_type": "execute_result"
    }
   ],
   "source": [
    "# to create contingency table\n",
    "table = np.array([[271,267,269,280],[29,33,31,20]])\n",
    "table"
   ]
  },
  {
   "cell_type": "code",
   "execution_count": 11,
   "id": "ce72e856",
   "metadata": {
    "ExecuteTime": {
     "end_time": "2023-03-16T20:52:45.039325Z",
     "start_time": "2023-03-16T20:52:45.010908Z"
    }
   },
   "outputs": [
    {
     "data": {
      "text/plain": [
       "(3.858960685820355,\n",
       " 0.2771020991233135,\n",
       " 3,\n",
       " array([[271.75, 271.75, 271.75, 271.75],\n",
       "        [ 28.25,  28.25,  28.25,  28.25]]))"
      ]
     },
     "execution_count": 11,
     "metadata": {},
     "output_type": "execute_result"
    }
   ],
   "source": [
    "# to find statistic and p-value\n",
    "stats.chi2_contingency(table)"
   ]
  },
  {
   "cell_type": "raw",
   "id": "57408091",
   "metadata": {},
   "source": [
    "Since, significant value = 0.05\n",
    "                 p-value = 0.27\n",
    "       => p-value > 0.05\n",
    "       So, we accept the null hypothesis\n",
    "Hence, the defective % doesn't vary by centre."
   ]
  }
 ],
 "metadata": {
  "kernelspec": {
   "display_name": "Python 3 (ipykernel)",
   "language": "python",
   "name": "python3"
  },
  "language_info": {
   "codemirror_mode": {
    "name": "ipython",
    "version": 3
   },
   "file_extension": ".py",
   "mimetype": "text/x-python",
   "name": "python",
   "nbconvert_exporter": "python",
   "pygments_lexer": "ipython3",
   "version": "3.9.13"
  }
 },
 "nbformat": 4,
 "nbformat_minor": 5
}
